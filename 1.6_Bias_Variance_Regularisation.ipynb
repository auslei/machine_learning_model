{
 "cells": [
  {
   "cell_type": "markdown",
   "id": "e8843fbd",
   "metadata": {},
   "source": [
    "# Bias / Variance / Irreducible Error"
   ]
  },
  {
   "cell_type": "markdown",
   "id": "aed47489",
   "metadata": {},
   "source": [
    "## Bias\n",
    "\n",
    "This part of the generalisation error is due to wrong assumptions, such as assuming that data is linear when it is actually quandratic. A high-bias model is most like to underfit the training data. (High MSE in training data)\n",
    "\n",
    "\n",
    "## Variance\n",
    "\n",
    "This part is due to the model's excessive sensitivity to small variations in the training data. A model with many degrees of freedom (such as a high-degree polynomial model) is likely to have high variance, and thus to overfit the training data. (Low MSE in Training Data, High MSE in Validation/Test Data)\n",
    "\n",
    "\n",
    "\n",
    "## Sweet Spot\n",
    "The goal is optimise the sweet spot with reasonable bias/variance, preferablly low bias, low variance. However, a low bias typically results in high varance (overfit) and viceversa (underfit).\n",
    "\n",
    "The ways in optimising are:\n",
    "- Regularisation - to reduce overfit by adding a paramer against weights\n",
    "- Boosting (Emsemble)\n",
    "- Bagging (random forest)\n",
    "\n",
    "\n",
    "## Irreducible Error\n",
    "This part is due to the noisiness of the data itself. The only way to reduce this part of the error is to clean up data.\n",
    "\n",
    "Bias and Variance is always a trade off between model complexity (more complex less bias more variance.)"
   ]
  },
  {
   "cell_type": "markdown",
   "id": "5ecb3bfb",
   "metadata": {},
   "source": [
    "# Regularisation\n",
    "\n",
    "There is a good article on this via sklearn: https://scikit-learn.org/stable/modules/linear_model.html\n",
    "\n",
    "## Ridge Regression\n",
    "Ridge Regrssion (Tikhnov regularisation) is a regularised version of linear regression. Forces model not only fit but keep the weights as small as possible.\n",
    "\n",
    "Sum of all weight^2 with a hyper parameter (alpha which controlls how much regularisation is applied. if 0 then typical linear regression).\n",
    "\n",
    "### Cost function\n",
    "$j(\\theta) = MSE(\\theta) + \\frac{\\lambda\\sum(\\theta^2)}{2}$\n",
    "\n",
    "where:\n",
    "\n",
    "$sum(\\theta^2) = l2 norm$"
   ]
  },
  {
   "cell_type": "markdown",
   "id": "482ff895",
   "metadata": {},
   "source": [
    "## Lasso Regrssion\n",
    "Least absolute shrinkage and selection operator regression, using l1 norm instead of l2 norm\n",
    "\n",
    "### Cost function\n",
    "$j(\\theta) = MSE(\\theta) + \\lambda\\sum(abs(\\theta))$\n",
    "\n",
    "\n",
    "### Elastic Net\n",
    "j(theta) = MSE(theta) + r*alpha* sum(abs(theta)) + (1-r)/2 * alpha * sum(theta^2)\n",
    "\n",
    "Note that ridge regression is a useful technique if as it automatically reduce features, however if there are features of importance it would be better to use Lasso or Elastic Net"
   ]
  },
  {
   "cell_type": "code",
   "execution_count": null,
   "id": "2de44099",
   "metadata": {},
   "outputs": [],
   "source": []
  }
 ],
 "metadata": {
  "kernelspec": {
   "display_name": "Python 3 (ipykernel)",
   "language": "python",
   "name": "python3"
  },
  "language_info": {
   "codemirror_mode": {
    "name": "ipython",
    "version": 3
   },
   "file_extension": ".py",
   "mimetype": "text/x-python",
   "name": "python",
   "nbconvert_exporter": "python",
   "pygments_lexer": "ipython3",
   "version": "3.9.10"
  }
 },
 "nbformat": 4,
 "nbformat_minor": 5
}
