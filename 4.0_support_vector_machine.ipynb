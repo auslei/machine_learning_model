{
 "cells": [
  {
   "cell_type": "markdown",
   "metadata": {
    "Collapsed": "false"
   },
   "source": [
    "## Support Vector Machines\n",
    "\n",
    "Large *margin classification*, SVM classifier fitting the widest (margin) *street* poassible between classes. The nature of SVM makes it very sensitve to feature scaling. \n",
    "\n",
    "Soft Margin classification is normally used to balance between the width of the *street* and number of valations. Sklearn uses hyper parameter C. (small C = more violations, but wide street, large C otherwise)\n"
   ]
  },
  {
   "cell_type": "code",
   "execution_count": 1,
   "metadata": {
    "Collapsed": "false"
   },
   "outputs": [
    {
     "data": {
      "text/plain": [
       "Pipeline(memory=None,\n",
       "         steps=[('scaler',\n",
       "                 StandardScaler(copy=True, with_mean=True, with_std=True)),\n",
       "                ('linear_scv',\n",
       "                 LinearSVC(C=1, class_weight=None, dual=True,\n",
       "                           fit_intercept=True, intercept_scaling=1,\n",
       "                           loss='hinge', max_iter=1000, multi_class='ovr',\n",
       "                           penalty='l2', random_state=None, tol=0.0001,\n",
       "                           verbose=0))],\n",
       "         verbose=False)"
      ]
     },
     "execution_count": 1,
     "metadata": {},
     "output_type": "execute_result"
    }
   ],
   "source": [
    "import numpy as np\n",
    "from sklearn import datasets\n",
    "from sklearn.pipeline import Pipeline\n",
    "from sklearn.preprocessing import StandardScaler\n",
    "from sklearn.svm import LinearSVC\n",
    "\n",
    "iris = datasets.load_iris()\n",
    "X = iris[\"data\"][:, (2,3)] # get petal length, petal width\n",
    "y = (iris[\"target\"]==2).astype(np.float64) # set target 1/0 for class Iris-Virginca\n",
    "\n",
    "svm_clf = Pipeline([\n",
    "    (\"scaler\", StandardScaler()),\n",
    "    (\"linear_scv\", LinearSVC(C=1, loss=\"hinge\"))\n",
    "])\n",
    "\n",
    "svm_clf.fit(X, y)"
   ]
  },
  {
   "cell_type": "code",
   "execution_count": 2,
   "metadata": {
    "Collapsed": "false"
   },
   "outputs": [
    {
     "data": {
      "text/plain": [
       "array([1.])"
      ]
     },
     "execution_count": 2,
     "metadata": {},
     "output_type": "execute_result"
    }
   ],
   "source": [
    "svm_clf.predict([[5.5, 1.7]])"
   ]
  },
  {
   "cell_type": "markdown",
   "metadata": {
    "Collapsed": "false"
   },
   "source": [
    "## Polynomial \n",
    "\n",
    "### Polynomial Features\n",
    "Improve features to better separate for datasets not linearly separable. \n",
    "\n",
    "### Polynomial Kernel\n",
    "The issue with polynomial feature is that if degree is too low, the benefit is limisted, if it is too high, it will create a lot of features and training becomes slow. In SVM you can solve this issue by applying a math *kernel trick*.\n"
   ]
  },
  {
   "cell_type": "code",
   "execution_count": 3,
   "metadata": {
    "Collapsed": "false"
   },
   "outputs": [
    {
     "name": "stdout",
     "output_type": "stream",
     "text": [
      "[0 1]\n",
      "[0 1]\n"
     ]
    }
   ],
   "source": [
    "from sklearn.datasets import make_moons\n",
    "from sklearn.preprocessing import PolynomialFeatures\n",
    "from sklearn.svm import SVC\n",
    "\n",
    "from matplotlib import pyplot as plt\n",
    "\n",
    "dataset = make_moons(20)\n",
    "\n",
    "c1 = np.where(dataset[1]==0)\n",
    "c2 = np.where(dataset[1]==1)\n",
    "\n",
    "\n",
    "X = dataset[0]\n",
    "y = dataset[1]\n",
    "\n",
    "plt.scatter(dataset[0][:,0][c1], dataset[0][:,1][c1], marker='o')\n",
    "plt.scatter(dataset[0][:,0][c2], dataset[0][:,1][c2], marker='^')\n",
    "\n",
    "polynomial_svm_clf = Pipeline([\n",
    "    (\"poly_features\", PolynomialFeatures(degree = 3)),\n",
    "    (\"scaler\", StandardScaler()),\n",
    "    (\"svm_clf\", LinearSVC(C = 10, loss = \"hinge\", max_iter=10000))\n",
    "])\n",
    "\n",
    "polynomial_kernel_svm_clf = Pipeline([    \n",
    "    (\"scaler\", StandardScaler()),\n",
    "    (\"svm_clf\", SVC(kernel='poly', degree=3, coef0=1, C=5))\n",
    "])\n",
    "\n",
    "polynomial_svm_clf.fit(X, y)\n",
    "print(polynomial_svm_clf.predict([[-1.0, 0.2], [1, -0.4]]))\n",
    "\n",
    "polynomial_kernel_svm_clf.fit(X, y)\n",
    "print(polynomial_svm_clf.predict([[-1.0, 0.2], [1, -0.4]]))"
   ]
  },
  {
   "cell_type": "markdown",
   "metadata": {
    "Collapsed": "false"
   },
   "source": [
    "## Visualise Decision Boundary"
   ]
  },
  {
   "cell_type": "code",
   "execution_count": 4,
   "metadata": {
    "Collapsed": "false"
   },
   "outputs": [
    {
     "data": {
      "image/png": "[encoded data removed]",
      "text/plain": [
       "<Figure size 432x288 with 1 Axes>"
      ]
     },
     "metadata": {
      "needs_background": "light"
     },
     "output_type": "display_data"
    }
   ],
   "source": [
    "def make_meshgrid(x, y, h=.02):\n",
    "    x_min, x_max = x.min() - 1, x.max() + 1\n",
    "    y_min, y_max = y.min() - 1, y.max() + 1\n",
    "    xx, yy = np.meshgrid(np.arange(x_min, x_max, h), np.arange(y_min, y_max, h))\n",
    "    return xx, yy\n",
    "\n",
    "def plot_contours(ax, clf, xx, yy, **params):\n",
    "    Z = clf.predict(np.c_[xx.ravel(), yy.ravel()])\n",
    "    Z = Z.reshape(xx.shape)\n",
    "    out = ax.contourf(xx, yy, Z, **params)\n",
    "    return out\n",
    "\n",
    "fig, ax = plt.subplots()\n",
    "# title for the plots\n",
    "title = ('Decision surface of linear SVC ')\n",
    "# Set-up grid for plotting.\n",
    "X0, X1 = X[:, 0], X[:, 1]\n",
    "xx, yy = make_meshgrid(X0, X1)\n",
    "\n",
    "plot_contours(ax, polynomial_kernel_svm_clf, xx, yy, cmap=plt.cm.coolwarm, alpha=0.8)\n",
    "ax.scatter(X0, X1, c=y, cmap=plt.cm.coolwarm, s=20, edgecolors='k')\n",
    "ax.set_ylabel('x1')\n",
    "ax.set_xlabel('x2')\n",
    "#ax.set_xticks(())\n",
    "#ax.set_yticks(())\n",
    "ax.set_title(title)\n",
    "#ax.legend()\n",
    "plt.show()"
   ]
  },
  {
   "cell_type": "markdown",
   "metadata": {
    "Collapsed": "false"
   },
   "source": [
    "## Similarity Features (Gaussian Radial Basis Function)\n",
    "\n",
    "The function is a measure how much each instance resembles a particular *landmark*. The function is bell shaped vary from 0 to 1 with highest point at landmark.\n",
    "\n",
    "$\n",
    "\\phi(x, l) = exp(-\\gamma\\Vert(x - l)\\Vert^2)\n",
    "$"
   ]
  },
  {
   "cell_type": "code",
   "execution_count": 5,
   "metadata": {
    "Collapsed": "false"
   },
   "outputs": [
    {
     "data": {
      "text/plain": [
       "Pipeline(memory=None,\n",
       "         steps=[('scaler',\n",
       "                 StandardScaler(copy=True, with_mean=True, with_std=True)),\n",
       "                ('svm_clf',\n",
       "                 SVC(C=0.001, cache_size=200, class_weight=None, coef0=0.0,\n",
       "                     decision_function_shape='ovr', degree=3, gamma=5,\n",
       "                     kernel='rbf', max_iter=-1, probability=False,\n",
       "                     random_state=None, shrinking=True, tol=0.001,\n",
       "                     verbose=False))],\n",
       "         verbose=False)"
      ]
     },
     "execution_count": 5,
     "metadata": {},
     "output_type": "execute_result"
    }
   ],
   "source": [
    "rbf_kernel_svm_clf = Pipeline([\n",
    "    ('scaler', StandardScaler()),\n",
    "    ('svm_clf', SVC(kernel = \"rbf\", gamma = 5, C = 0.001))\n",
    "])\n",
    "\n",
    "rbf_kernel_svm_clf.fit(X, y)"
   ]
  },
  {
   "cell_type": "markdown",
   "metadata": {
    "Collapsed": "false"
   },
   "source": [
    "## Which Kernel to use?\n",
    "\n",
    "- Always use LinearSVC first if training set is large with plenty of features\n",
    "- If training set not too large, can also try Gaussian RBF"
   ]
  },
  {
   "cell_type": "markdown",
   "metadata": {
    "Collapsed": "false"
   },
   "source": [
    "## SVM Regression\n",
    "\n",
    "The trick is to reverse the objective as SVC, instead of tring to find the largest possible *steet* between classes, it tries to fit as many instances as possible on the string and limiting boundary violations.\n",
    "\n",
    "The width of the *street* is controlled by hyperparameter $\\epsilon$"
   ]
  },
  {
   "cell_type": "code",
   "execution_count": 11,
   "metadata": {
    "Collapsed": "false"
   },
   "outputs": [
    {
     "name": "stderr",
     "output_type": "stream",
     "text": [
      "d:\\python\\mnist\\.env\\lib\\site-packages\\sklearn\\svm\\base.py:193: FutureWarning: The default value of gamma will change from 'auto' to 'scale' in version 0.22 to account better for unscaled features. Set gamma explicitly to 'auto' or 'scale' to avoid this warning.\n",
      "  \"avoid this warning.\", FutureWarning)\n"
     ]
    },
    {
     "data": {
      "text/plain": [
       "SVR(C=100, cache_size=200, coef0=0.0, degree=2, epsilon=1.5,\n",
       "    gamma='auto_deprecated', kernel='poly', max_iter=-1, shrinking=True,\n",
       "    tol=0.001, verbose=False)"
      ]
     },
     "execution_count": 11,
     "metadata": {},
     "output_type": "execute_result"
    }
   ],
   "source": [
    "from sklearn.svm import LinearSVR\n",
    "from sklearn.svm import SVR\n",
    "\n",
    "svm_reg = LinearSVR(epsilon=1.5)\n",
    "svm_poly_reg = SVR(kernel='poly', degree=2, C=100, epsilon=1.5)\n",
    "\n",
    "svm_reg.fit(X, y)\n",
    "svm_poly_reg.fit(X, y)\n",
    "\n",
    "# similarly as SVC, we can also use polynomial features\n"
   ]
  },
  {
   "cell_type": "markdown",
   "metadata": {
    "Collapsed": "false"
   },
   "source": [
    "## Decision Function\n",
    "\n",
    "$\n",
    "\\hat{y} = 0\\text{ , if } w^T \\cdot x + b < 0\\\\\n",
    "\\hat{y} = 1\\text{ , if } w^T \\cdot x + b \\geq 0,\n",
    "$\n",
    "\n",
    "Slope of decision function is defined as $\\|w\\|$. If the value is reduced, the margine will be widened. Below chart demostrates intuition."
   ]
  },
  {
   "cell_type": "code",
   "execution_count": 22,
   "metadata": {
    "Collapsed": "false"
   },
   "outputs": [
    {
     "data": {
      "text/plain": [
       "Text(0.5, 1.0, 'half decision boundary will widen margin')"
      ]
     },
     "execution_count": 22,
     "metadata": {},
     "output_type": "execute_result"
    },
    {
     "data": {
      "image/png": "[encoded data removed]",
      "text/plain": [
       "<Figure size 432x288 with 1 Axes>"
      ]
     },
     "metadata": {
      "needs_background": "light"
     },
     "output_type": "display_data"
    }
   ],
   "source": [
    "import numpy as np\n",
    "import matplotlib.pyplot as plt\n",
    "\n",
    "%matplotlib inline\n",
    "\n",
    "x = np.linspace(-5, 5, 10)\n",
    "y1 = x\n",
    "y2 = 0.5 * x\n",
    "\n",
    "fig, ax = plt.subplots()\n",
    "\n",
    "ax.plot(x, y1, c='b')\n",
    "ax.plot(x, y2, c='g')\n",
    "\n",
    "ax.spines['left'].set_position('center')\n",
    "ax.spines['right'].set_color('none')\n",
    "ax.spines['bottom'].set_position('center')\n",
    "ax.spines['top'].set_color('none')\n",
    "ax.spines['left'].set_smart_bounds(True)\n",
    "ax.spines['bottom'].set_smart_bounds(True)\n",
    "\n",
    "ax.grid(color='grey', linestyle='-', linewidth=0.2)\n",
    "ax.set_xticks(np.arange(-5, 5))\n",
    "ax.set_yticks(np.arange(-5, 5))\n",
    "ax.xaxis.set_ticks_position('bottom')\n",
    "ax.yaxis.set_ticks_position('left')\n",
    "\n",
    "ax.set_title(\"half decision boundary will widen margin\")\n"
   ]
  },
  {
   "cell_type": "code",
   "execution_count": 20,
   "metadata": {
    "Collapsed": "false"
   },
   "outputs": [
    {
     "data": {
      "text/plain": [
       "array([-5, -4, -3, -2, -1,  0,  1,  2,  3,  4])"
      ]
     },
     "execution_count": 20,
     "metadata": {},
     "output_type": "execute_result"
    }
   ],
   "source": [
    "np.arange(-5, 5)"
   ]
  },
  {
   "cell_type": "markdown",
   "metadata": {
    "Collapsed": "false"
   },
   "source": [
    "## Classifier objective\n",
    "\n",
    "**Hard Margin linear SVM classifier**\n",
    "\n",
    "This is an optimisation problem with objective function:\n",
    "\n",
    "minize $\\frac{1}{2}w^T \\cdot w$\n",
    "\n",
    "As can be seen the smaller the weights the large the margin. This meants that we will need to minimize $\\lVert \\mathbf{w} \\rVert$. We need also at the same time avoid margin violation. Therefore it is better to set >1 for all positive and <-1 for negative training. \n",
    "\n",
    "subject to \n",
    "\n",
    "If we set $t^{(i)}=1$ for positive, and =-1 for all negative instances. We can express for all isntances $t^{(i)}(w^T \\cdot x^{(i)} + b) \\ge 1$\n",
    "\n",
    "**Soft Margin classifier**\n",
    "\n",
    "Hard margin will not perform will if there are outliers in repsective classes. The trick to allow some margin violations with reasonable variance. This is done by setting a *slack variable* $\\zeta^{(i)} \\ge 0$ (zeta) for each instance which describe how much ith instance is allowed to violate margin. Therefore we have 2 conflicting objectives: making slack variable as small as possible but also $/frac{1}{2}w^T \\cdot w$ as small as possible (margin as large as possible). This is where we have the C hyper parameter to define trade of between the two.\n",
    "\n",
    "The objective functio becomes \n",
    "\n",
    "minize $\\frac{1}{2}w^T \\cdot w + C \\sum_{i=1}^m\\zeta^{(i)}$\n",
    "\n",
    "subject to $t^{(i)}(w^T \\cdot x^{(i)} + b) \\ge 1 - \\zeta^{(i)}$"
   ]
  },
  {
   "cell_type": "code",
   "execution_count": null,
   "metadata": {
    "Collapsed": "false"
   },
   "outputs": [],
   "source": []
  }
 ],
 "metadata": {
  "kernelspec": {
   "display_name": "Python 3",
   "language": "python",
   "name": "python3"
  },
  "language_info": {
   "codemirror_mode": {
    "name": "ipython",
    "version": 3
   },
   "file_extension": ".py",
   "mimetype": "text/x-python",
   "name": "python",
   "nbconvert_exporter": "python",
   "pygments_lexer": "ipython3",
   "version": "3.6.8"
  }
 },
 "nbformat": 4,
 "nbformat_minor": 4
}
