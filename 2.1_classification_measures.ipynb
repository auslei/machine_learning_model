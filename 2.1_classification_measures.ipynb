{
 "cells": [
  {
   "cell_type": "code",
   "execution_count": 18,
   "id": "a5de655e",
   "metadata": {},
   "outputs": [
    {
     "name": "stdout",
     "output_type": "stream",
     "text": [
      "(6000, 3) (4000, 3)\n"
     ]
    }
   ],
   "source": [
    "from sklearn.datasets import make_classification\n",
    "from sklearn.model_selection import train_test_split\n",
    "from sklearn.linear_model import LogisticRegression\n",
    "\n",
    "X, y = make_classification(n_samples = 10000, n_classes = 2, n_features = 3, n_redundant = 0, random_state = 1)\n",
    "\n",
    "X_train, X_test, y_train, y_test = train_test_split(X, y, train_size = 0.6)\n",
    "\n",
    "lr = LogisticRegression()\n",
    "lr.fit(X_train, y_train)\n",
    "\n",
    "\n",
    "print(X_train.shape, X_test.shape)\n"
   ]
  },
  {
   "cell_type": "markdown",
   "id": "41e4d0e3",
   "metadata": {},
   "source": [
    "# Performance Measures\n"
   ]
  },
  {
   "cell_type": "code",
   "execution_count": 30,
   "id": "127fc984",
   "metadata": {},
   "outputs": [],
   "source": [
    "from sklearn.metrics import accuracy_score, confusion_matrix, f1_score, plot_confusion_matrix"
   ]
  },
  {
   "cell_type": "code",
   "execution_count": 21,
   "id": "578355df",
   "metadata": {},
   "outputs": [
    {
     "data": {
      "text/plain": [
       "0.87175"
      ]
     },
     "execution_count": 21,
     "metadata": {},
     "output_type": "execute_result"
    }
   ],
   "source": [
    "accuracy_score(y_test, lr.predict(X_test), normalize = True) # accuracy, number (or porportion) predition is right\n",
    "\n",
    "# this is not good measure if there is imbalnaced dataset, high accuracy doesnt mean anything"
   ]
  },
  {
   "cell_type": "markdown",
   "id": "15ac9e00",
   "metadata": {},
   "source": [
    "f1_score(y_test, lr.predict(X_test)) # f1 on the other hand is pretty good\n",
    "\n",
    "## Confusion Matrix\n",
    "\n",
    "\n",
    "| TN | FN |\n",
    "|----|----|\n",
    "| FP | TP |\n"
   ]
  },
  {
   "cell_type": "code",
   "execution_count": 35,
   "id": "4481536a",
   "metadata": {},
   "outputs": [
    {
     "data": {
      "text/plain": [
       "<sklearn.metrics._plot.confusion_matrix.ConfusionMatrixDisplay at 0x28e4ac280>"
      ]
     },
     "execution_count": 35,
     "metadata": {},
     "output_type": "execute_result"
    },
    {
     "data": {
      "image/png": "[encoded data removed]",
      "text/plain": [
       "<Figure size 432x288 with 2 Axes>"
      ]
     },
     "metadata": {
      "needs_background": "light"
     },
     "output_type": "display_data"
    }
   ],
   "source": [
    "# Confusion Matrix\n",
    "\n",
    "from sklearn.metrics import confusion_matrix, ConfusionMatrixDisplay\n",
    "\n",
    "cm = confusion_matrix(y_test, lr.predict(X_test))\n",
    "\n",
    "disp = ConfusionMatrixDisplay(confusion_matrix=cm)\n",
    "disp.plot()"
   ]
  },
  {
   "cell_type": "markdown",
   "id": "382f8955",
   "metadata": {},
   "source": [
    "## Precision / Recall\n",
    "\n",
    "Precision is a measure on how well we predict correct positive, minimising false positives. \n",
    "\n",
    "$Precision = \\frac{TP}{TP + FP}$\n",
    "\n",
    "Recall is how many positive that we have detected, maximising detections\n",
    "\n",
    "$Recall = \\frac{TP}{TP + FN}$\n",
    "\n",
    "Precision and Recall are usually trade offs, when tring to predict and capture all positives (reduce false negatives), we will not be able to avoid false positives.\n",
    "\n"
   ]
  },
  {
   "cell_type": "code",
   "execution_count": 38,
   "id": "3e05a3ad",
   "metadata": {},
   "outputs": [
    {
     "name": "stdout",
     "output_type": "stream",
     "text": [
      "0.8837327893931668 0.8587710604558969\n"
     ]
    }
   ],
   "source": [
    "from sklearn.metrics import precision_score, recall_score\n",
    "\n",
    "ps = precision_score(y_test, lr.predict(X_test))\n",
    "rs = recall_score(y_test, lr.predict(X_test))\n",
    "\n",
    "print(ps, rs)"
   ]
  },
  {
   "cell_type": "code",
   "execution_count": 43,
   "id": "17dae9d1",
   "metadata": {},
   "outputs": [
    {
     "data": {
      "text/plain": [
       "0.8837327893931668"
      ]
     },
     "execution_count": 43,
     "metadata": {},
     "output_type": "execute_result"
    }
   ],
   "source": [
    "1733/(1733+228) # Precision"
   ]
  },
  {
   "cell_type": "code",
   "execution_count": 46,
   "id": "2edbd90d",
   "metadata": {},
   "outputs": [
    {
     "data": {
      "text/plain": [
       "0.8587710604558969"
      ]
     },
     "execution_count": 46,
     "metadata": {},
     "output_type": "execute_result"
    }
   ],
   "source": [
    "1733/(1733+285) # Recall"
   ]
  },
  {
   "cell_type": "code",
   "execution_count": 41,
   "id": "63748814",
   "metadata": {},
   "outputs": [
    {
     "data": {
      "text/plain": [
       "array([[1754,  228],\n",
       "       [ 285, 1733]])"
      ]
     },
     "execution_count": 41,
     "metadata": {},
     "output_type": "execute_result"
    }
   ],
   "source": [
    "cm"
   ]
  },
  {
   "cell_type": "code",
   "execution_count": 42,
   "id": "ab9c444b",
   "metadata": {},
   "outputs": [
    {
     "data": {
      "text/plain": [
       "4000"
      ]
     },
     "execution_count": 42,
     "metadata": {},
     "output_type": "execute_result"
    }
   ],
   "source": [
    "len(y_test)"
   ]
  },
  {
   "cell_type": "code",
   "execution_count": 60,
   "id": "3130aa04",
   "metadata": {},
   "outputs": [],
   "source": [
    "from sklearn.metrics import precision_recall_curve\n",
    "from sklearn.model_selection import cross_val_predict\n",
    "\n",
    "\n",
    "y_scores = cross_val_predict(lr, X_train, y_train, cv = 3, method = \"decision_function\") # get all the scores\n",
    "\n",
    "precisions, recalls, thresholds = precision_recall_curve(y_train, y_scores)"
   ]
  },
  {
   "cell_type": "code",
   "execution_count": 62,
   "id": "949d9e04",
   "metadata": {},
   "outputs": [
    {
     "data": {
      "image/png": "[encoded data removed]",
      "text/plain": [
       "<Figure size 432x288 with 1 Axes>"
      ]
     },
     "metadata": {
      "needs_background": "light"
     },
     "output_type": "display_data"
    }
   ],
   "source": [
    "from matplotlib import pyplot as plt\n",
    "\n",
    "def plot_precision_recall_vs_threshold(precisions, recalls, thresholds):\n",
    "    plt.plot(thresholds, precisions[:-1], \"b--\", label = \"Precision\")\n",
    "    plt.plot(thresholds, recalls[:-1], \"b--\", label = \"Recall\")\n",
    "    \n",
    "plot_precision_recall_vs_threshold(precisions, recalls, thresholds)"
   ]
  },
  {
   "cell_type": "code",
   "execution_count": 57,
   "id": "ef2632b3",
   "metadata": {},
   "outputs": [
    {
     "data": {
      "text/plain": [
       "6001"
      ]
     },
     "execution_count": 57,
     "metadata": {},
     "output_type": "execute_result"
    }
   ],
   "source": [
    "len(precisions)"
   ]
  },
  {
   "cell_type": "code",
   "execution_count": null,
   "id": "be091f2d",
   "metadata": {},
   "outputs": [],
   "source": []
  }
 ],
 "metadata": {
  "kernelspec": {
   "display_name": "Python 3 (ipykernel)",
   "language": "python",
   "name": "python3"
  },
  "language_info": {
   "codemirror_mode": {
    "name": "ipython",
    "version": 3
   },
   "file_extension": ".py",
   "mimetype": "text/x-python",
   "name": "python",
   "nbconvert_exporter": "python",
   "pygments_lexer": "ipython3",
   "version": "3.9.13"
  }
 },
 "nbformat": 4,
 "nbformat_minor": 5
}
