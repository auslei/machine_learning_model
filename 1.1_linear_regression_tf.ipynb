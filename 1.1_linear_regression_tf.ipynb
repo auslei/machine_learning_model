{
 "cells": [
  {
   "cell_type": "markdown",
   "metadata": {},
   "source": [
    "## Implementing Gradient Descent Using Tensorflow"
   ]
  },
  {
   "cell_type": "code",
   "execution_count": 1,
   "metadata": {},
   "outputs": [],
   "source": [
    "import tensorflow as tf\n",
    "import numpy as np\n",
    "from matplotlib import pyplot"
   ]
  },
  {
   "cell_type": "code",
   "execution_count": 2,
   "metadata": {},
   "outputs": [
    {
     "data": {
      "text/plain": [
       "<matplotlib.collections.PathCollection at 0x13e96095520>"
      ]
     },
     "execution_count": 2,
     "metadata": {},
     "output_type": "execute_result"
    },
    {
     "data": {
      "image/png": "[encoded data removed]",
      "text/plain": [
       "<Figure size 432x288 with 1 Axes>"
      ]
     },
     "metadata": {
      "needs_background": "light"
     },
     "output_type": "display_data"
    }
   ],
   "source": [
    "# generate random data\n",
    "def generate_random_data(m = 100):\n",
    "    X = 2 * np.random.rand(m, 1)\n",
    "    y = 4 + 3 * X + np.random.rand(m, 1)\n",
    "    return X, y\n",
    "\n",
    "X, y = generate_random_data()\n",
    "pyplot.scatter(X, y)"
   ]
  },
  {
   "cell_type": "markdown",
   "metadata": {},
   "source": [
    "## Define Linear and loss function\n",
    "\n",
    "As it is a linear regression. The predict function is simply:\n",
    "\n",
    "$\n",
    "y = m*x + b\n",
    "$\n",
    "\n",
    "The squared error is the mean of squared error:\n",
    "$\n",
    "err = \\frac{1}{n}\\sum_{k=1}{(\\hat{y}_k - y_k)^2}\n",
    "$"
   ]
  },
  {
   "cell_type": "code",
   "execution_count": 3,
   "metadata": {},
   "outputs": [
    {
     "data": {
      "text/plain": [
       "<tf.Tensor: shape=(), dtype=float32, numpy=62.373505>"
      ]
     },
     "execution_count": 3,
     "metadata": {},
     "output_type": "execute_result"
    }
   ],
   "source": [
    "def predict(X):\n",
    "    y = m * X + b\n",
    "    return y\n",
    "\n",
    "def squared_error(y_pred, y):\n",
    "    return tf.reduce_mean(tf.square(y_pred - y))\n",
    "\n",
    "\n",
    "# initialise m and b, in this case as X has only one feature, m and b are both scalar. \n",
    "m = tf.Variable(0., name = \"m\")  \n",
    "b = tf.Variable(0., name = \"b\") \n",
    "\n",
    "squared_error(predict(X), y)"
   ]
  },
  {
   "cell_type": "markdown",
   "metadata": {},
   "source": [
    "## Gradient Descent\n",
    "\n",
    "In TensorFlow 2.0. We can calculate gradient for every variable. To o this is to create a gradient tape object, and passing the functions.\n",
    "\n",
    "Gradient can be calculated by passing in what's required, then the variable data. \n",
    "\n",
    "As we get gradient then we can easily use them to modify m and b with learning rate. This meant we don't have to calculate gradient ourselves."
   ]
  },
  {
   "cell_type": "code",
   "execution_count": 4,
   "metadata": {},
   "outputs": [
    {
     "name": "stdout",
     "output_type": "stream",
     "text": [
      "tf.Tensor(62.373505, shape=(), dtype=float32)\n",
      "tf.Tensor(0.21903466, shape=(), dtype=float32)\n",
      "tf.Tensor(0.12293133, shape=(), dtype=float32)\n",
      "tf.Tensor(0.09470183, shape=(), dtype=float32)\n",
      "tf.Tensor(0.08640973, shape=(), dtype=float32)\n",
      "<tf.Variable 'm:0' shape=() dtype=float32, numpy=2.992041> <tf.Variable 'b:0' shape=() dtype=float32, numpy=4.5420785>\n"
     ]
    }
   ],
   "source": [
    "n_epochs = 1000\n",
    "learning_rate = 0.01\n",
    "\n",
    "for epoch in range(n_epochs):                \n",
    "    with tf.GradientTape(persistent=True) as tape:\n",
    "      y_pred = predict(X)          \n",
    "      loss = squared_error(y_pred, y)\n",
    "\n",
    "    # gradient is calculated for every variable\n",
    "    grad = tape.gradient(loss, [m, b])   \n",
    "\n",
    "    # here we have to use assign\n",
    "    m.assign(m - learning_rate * grad[0])\n",
    "    b.assign(b - learning_rate * grad[1])\n",
    "\n",
    "    if (epoch % 200 == 0):\n",
    "     print(loss)\n",
    "\n",
    "print(m, b)"
   ]
  },
  {
   "cell_type": "markdown",
   "metadata": {},
   "source": [
    "## Auto Diff\n",
    "\n",
    "Tensorflow also provide optimizers which essentially does the above with minimal effort.\n",
    "\n",
    "https://www.tensorflow.org/api_docs/python/tf/keras/optimizers\n",
    "\n",
    "In TF 2.0. I can only find optimizers under keras."
   ]
  },
  {
   "cell_type": "code",
   "execution_count": 5,
   "metadata": {},
   "outputs": [
    {
     "name": "stdout",
     "output_type": "stream",
     "text": [
      "<tf.Variable 'Variable:0' shape=() dtype=float32, numpy=99.40984> <tf.Variable 'Variable:0' shape=() dtype=float32, numpy=3.5750282>\n"
     ]
    }
   ],
   "source": [
    "# Create an optimizer with the desired parameters.\n",
    "m = tf.Variable(100.)\n",
    "b = tf.Variable(4.)\n",
    "opt = tf.keras.optimizers.SGD(learning_rate=0.001, momentum=0.1)\n",
    "loss = lambda: squared_error(predict(X), y)\n",
    "opt_op = opt.minimize(loss, var_list=[m, b])\n",
    "opt.minimize(loss, var_list=[m, b])\n",
    "print(m, b)"
   ]
  }
 ],
 "metadata": {
  "kernelspec": {
   "display_name": "ml_with_tensor",
   "language": "python",
   "name": "ml_with_tensor"
  },
  "language_info": {
   "codemirror_mode": {
    "name": "ipython",
    "version": 3
   },
   "file_extension": ".py",
   "mimetype": "text/x-python",
   "name": "python",
   "nbconvert_exporter": "python",
   "pygments_lexer": "ipython3",
   "version": "3.8.5"
  }
 },
 "nbformat": 4,
 "nbformat_minor": 4
}
