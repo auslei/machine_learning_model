{
 "cells": [
  {
   "cell_type": "markdown",
   "metadata": {},
   "source": [
    "# General Statistics\n",
    "\n",
    "Just some stats lingos and methodology so I don't forget."
   ]
  },
  {
   "cell_type": "code",
   "execution_count": 2,
   "metadata": {},
   "outputs": [],
   "source": [
    "import numpy as np\n",
    "\n",
    "# https://numpy.org/doc/stable/reference/random/generated/numpy.random.normal.html\n",
    "mu, sigma = 0, 0.1 # mean and standard deviation\n",
    "s = np.random.normal(mu, sigma, 1000)\n",
    "# Generate Distribution:\n",
    "randomNums = np.random.normal(scale=3, size=100000)\n",
    "randomInts = np.round(randomNums)\n"
   ]
  },
  {
   "cell_type": "code",
   "execution_count": 3,
   "metadata": {},
   "outputs": [
    {
     "data": {
      "image/png": "[encoded data removed]",
      "text/plain": [
       "<Figure size 432x288 with 1 Axes>"
      ]
     },
     "metadata": {
      "needs_background": "light"
     },
     "output_type": "display_data"
    }
   ],
   "source": [
    "import matplotlib.pyplot as plt\n",
    "import numpy as np\n",
    "\n",
    "count, bins, ignored = plt.hist(s, 30, density=True)\n",
    "plt.plot(bins, 1/(sigma * np.sqrt(2 * np.pi)) *\n",
    "         np.exp( - (bins - mu)**2 / (2 * sigma**2) ),\n",
    "         linewidth=2, color='r')\n",
    "\n",
    "plt.show()"
   ]
  },
  {
   "cell_type": "markdown",
   "metadata": {},
   "source": [
    "## Describing Data"
   ]
  },
  {
   "cell_type": "code",
   "execution_count": 4,
   "metadata": {},
   "outputs": [
    {
     "name": "stdout",
     "output_type": "stream",
     "text": [
      "0.0062 -0.0 2.0\n"
     ]
    }
   ],
   "source": [
    "from collections import Counter\n",
    "\n",
    "# Mean\n",
    "def mean(x):\n",
    "    return(sum(x)/len(x))\n",
    "\n",
    "# quantile.\n",
    "def quantile(x, p):\n",
    "    p_index = int(p * len(x))\n",
    "    return sorted(x)[p_index]\n",
    "\n",
    "\n",
    "# mod\n",
    "def mode(x):\n",
    "    c = Counter(x)\n",
    "    return c.most_common(1)[0][0]\n",
    "\n",
    "\n",
    "# below prints mean, median, and 75 percentile.\n",
    "print(mean(randomInts), quantile(randomInts, 0.5), quantile(randomInts, 0.75))"
   ]
  },
  {
   "cell_type": "markdown",
   "metadata": {},
   "source": [
    "## Plot Normal Distribution"
   ]
  },
  {
   "cell_type": "code",
   "execution_count": 5,
   "metadata": {},
   "outputs": [
    {
     "data": {
      "text/plain": [
       "<BarContainer object of 28 artists>"
      ]
     },
     "execution_count": 5,
     "metadata": {},
     "output_type": "execute_result"
    },
    {
     "data": {
      "image/png": "[encoded data removed]",
      "text/plain": [
       "<Figure size 432x288 with 1 Axes>"
      ]
     },
     "metadata": {
      "needs_background": "light"
     },
     "output_type": "display_data"
    }
   ],
   "source": [
    "\n",
    "c = Counter(randomInts)\n",
    "plt.bar(c.keys(), c.values())"
   ]
  },
  {
   "cell_type": "markdown",
   "metadata": {},
   "source": [
    "## Dispersion\n",
    "Measures of how spread out the data is.\n",
    "\n",
    "$Variance =\\frac{\\sum_{i=0}^n(x_i-\\bar{x})^2}{n-1}$ \n",
    "\n",
    "**Note** The reason why n-1 is that normally $\\bar{x}$ is a sample mean which mean the avearge of deviation squared is an underestimate. See: https://en.wikipedia.org/wiki/Unbiased_estimation_of_standard_deviation\n",
    "\n",
    "\n",
    "Standard Deivation is just square root of variance. This is because intuitive, SD is the same unit.\n",
    "\n",
    "$s = \\sqrt{\\frac{\\sum_{i=0}^n(x_i-\\bar{x})^2}{n-1}}$\n",
    "\n",
    "Both variance and stv will have outlier problems, a more robust alternative computes the difference between 25th and 75th percentile."
   ]
  },
  {
   "cell_type": "code",
   "execution_count": 6,
   "metadata": {},
   "outputs": [
    {
     "name": "stdout",
     "output_type": "stream",
     "text": [
      "28.0 9.060070600706007 3.009995116392385 4.0\n"
     ]
    }
   ],
   "source": [
    "# range is the simplist \n",
    "def data_range(x):\n",
    "    return max(x) - min(x)\n",
    "\n",
    "# deviations from mean for each element\n",
    "def de_mean(x):\n",
    "    x_bar = mean(x)\n",
    "    return [x_i - x_bar for x_i in x] \n",
    "\n",
    "# variance is just the sum sqaned\n",
    "def variance(x):\n",
    "    n = len(x)\n",
    "    deivations = de_mean(x)\n",
    "    return sum([x_i**2 for x_i in x]) / (n - 1)\n",
    "\n",
    "# standard deviation\n",
    "def standard_dev(x):\n",
    "    return np.sqrt(variance(x))\n",
    "\n",
    "def interquartile_range(x): \n",
    "    return quantile (x , 0.75) - quantile (x , 0.25) \n",
    "\n",
    "\n",
    "\n",
    "print(data_range(randomInts), variance(randomInts), standard_dev(randomInts), interquartile_range(randomInts))"
   ]
  },
  {
   "cell_type": "markdown",
   "metadata": {},
   "source": [
    "# Correlation\n",
    "\n",
    "Covariance is the variance between pairs. This can be achieved by having dot product between deivations of the 2 varibles over n - 1"
   ]
  },
  {
   "cell_type": "code",
   "execution_count": 7,
   "metadata": {},
   "outputs": [],
   "source": [
    "def covariance(x, y):\n",
    "    n = len(x)\n",
    "    return np.dot(de_mean(x), de_mean(y)) / (n - 1)   # recall variance is de_mean squared sum. (basically covariance of itself)"
   ]
  },
  {
   "cell_type": "markdown",
   "metadata": {},
   "source": [
    "Correlation is basically the covariance divide by the product of respective stdard deivations. "
   ]
  },
  {
   "cell_type": "markdown",
   "metadata": {},
   "source": []
  },
  {
   "cell_type": "code",
   "execution_count": 8,
   "metadata": {},
   "outputs": [],
   "source": [
    "def correlation(x, y):\n",
    "    return covariance(x, y)/ standard_dev(x)/standard_dev(y)"
   ]
  },
  {
   "cell_type": "code",
   "execution_count": 9,
   "metadata": {},
   "outputs": [],
   "source": [
    "from sklearn.datasets import make_regression\n",
    "X, y = make_regression(n_samples = 10, n_features=1, bias=4, noise=0.45)"
   ]
  },
  {
   "cell_type": "code",
   "execution_count": 16,
   "metadata": {},
   "outputs": [
    {
     "name": "stdout",
     "output_type": "stream",
     "text": [
      "70.52515016083304 0.9894263768111407\n"
     ]
    }
   ],
   "source": [
    "print(covariance(X.reshape(10,), y), correlation(X.reshape(10,), y))"
   ]
  },
  {
   "cell_type": "markdown",
   "metadata": {},
   "source": [
    "## Caveats\n",
    "\n",
    "Unlike covariance the unit do not make much sense, correlation is **unit less** and always lies between -1 (perfect anti-correlation) and 1 (perfect correlation). It is still subjected to outliers.\n",
    "\n",
    "One suprise when analysing data is **Simpson's Paradox** in which correlation can be misleading when confounding varibles are ignored. Knowing data well is probably the only way of dealing with confonding factors.\n",
    "\n",
    "Further reading: https://en.wikipedia.org/wiki/Confounding; https://en.wikipedia.org/wiki/Simpson's_paradox\n"
   ]
  },
  {
   "cell_type": "markdown",
   "metadata": {},
   "source": [
    "- See example below also, correlation is 0, however, we can see a relationship between x and y where y = abs(x). Correlation give us information about how $x_i$ compared to $\\bar{x}$ verses same for y but not any more details. \n",
    "\n",
    "- It also won''t tell us about how large thr relationship are. see second example, the samples are correlated but the relationship may not be interesting at all.\n",
    "\n",
    "- Corrrelation and causation: famously *correlation is not causation*, its merely relationship between 2 variables. but not causal relationship"
   ]
  },
  {
   "cell_type": "code",
   "execution_count": 18,
   "metadata": {},
   "outputs": [
    {
     "name": "stdout",
     "output_type": "stream",
     "text": [
      "0.0\n",
      "0.00014142135482308793\n"
     ]
    }
   ],
   "source": [
    "x = [-2, -1, 0, 1, 2]\n",
    "y = [2, 1, 0, 1, 2]\n",
    "\n",
    "print(correlation(x, y)) \n",
    "\n",
    "x1 = [-2, -1, 0, 1, 2]\n",
    "y1 = [99.98, 99.99, 100, 100.01, 100.02]\n",
    "\n",
    "print(correlation(x1, y1))"
   ]
  },
  {
   "cell_type": "markdown",
   "metadata": {},
   "source": [
    "# Probability\n",
    "\n",
    "- P(E): probability given event E\n",
    "- P(E, F): probability of two **independent** event E, F happens \n",
    "- P(E| F): Probabiliyty of event E happense given F happens, where E and F are dependent and F is not 0"
   ]
  },
  {
   "cell_type": "code",
   "execution_count": 20,
   "metadata": {},
   "outputs": [
    {
     "name": "stdout",
     "output_type": "stream",
     "text": [
      "Tails\n",
      "Tails\n",
      "Heads\n",
      "Heads\n",
      "Heads\n",
      "Heads\n",
      "Heads\n",
      "Heads\n",
      "Heads\n",
      "Tails\n"
     ]
    }
   ],
   "source": [
    "import numpy\n",
    "\n",
    "def coin_toss():\n",
    "    return np.random.choice([\"Heads\", \"Tails\"])\n",
    "\n",
    "for i in range(10):\n",
    "    print(coin_toss())"
   ]
  },
  {
   "cell_type": "code",
   "execution_count": 24,
   "metadata": {},
   "outputs": [
    {
     "name": "stdout",
     "output_type": "stream",
     "text": [
      "#heads = 4915\n",
      "#tails = 5085\n"
     ]
    }
   ],
   "source": [
    "# when using a larger sample, you can see probability are roughly 50% for each toss.\n",
    "\n",
    "size = 10000\n",
    "\n",
    "heads = 0\n",
    "tails = 0\n",
    "\n",
    "np.random.seed(0)\n",
    "\n",
    "for _ in range(size):\n",
    "    toss = coin_toss()\n",
    "    if toss == \"Heads\":\n",
    "        heads += 1\n",
    "    else:\n",
    "        tails += 1\n",
    "\n",
    "print(f\"#heads = {heads}\\n#tails = {tails}\")\n"
   ]
  },
  {
   "cell_type": "markdown",
   "metadata": {},
   "source": [
    "## Conditional\n",
    "\n",
    "All combos of two tosses\n",
    "\n",
    "H H\n",
    "\n",
    "H T\n",
    "\n",
    "T H\n",
    "\n",
    "T T\n",
    "\n",
    "P(BH) = 1 / 4  # both head \n",
    "P(OH) = 3 / 4  # at least one head\n",
    "P(H)  = 2 / 4  # first toss is a head\n",
    "\n",
    "- What if we toss twice, what is the probabiliy both are heads, given the first toss is a head\n",
    "    - P(BH | H) = P(BH, H) / P(H) = 0.25 / 0.5 = 0.5\n",
    "    - Long version: P(first heads and second hards | first is head) = P(first heads + second heads AND first is heads) / P(first is head). Note how the first is heads probability is part of first heads, second heads. In fact if we know the first toss is a head, then scond toss is 50% heads anyway will work out the same.\n",
    "\n",
    "- what if we toss twice, what is the probability both a heads, give at least one of the toss is a head. \n",
    "    - P(BH | OH) = P(BH, OH) / P(OH) = 0.25 / 0.75 = 1/3\n",
    "\n",
    "**Note** P(H), probability first is head is contained without probability when both are heads."
   ]
  },
  {
   "cell_type": "code",
   "execution_count": 27,
   "metadata": {},
   "outputs": [
    {
     "name": "stdout",
     "output_type": "stream",
     "text": [
      "0.2521 0.7491 0.5018\n",
      "P(BH |H): 0.5023913909924272\n",
      "P(BH |OH): 0.3365371779468696\n"
     ]
    }
   ],
   "source": [
    "\n",
    "# test the theory out\n",
    "\n",
    "both_heads = 0\n",
    "first_heads = 0\n",
    "either_heads = 0\n",
    "\n",
    "for _ in range(size):\n",
    "    toss1 = coin_toss()\n",
    "    toss2 = coin_toss()\n",
    "    if toss1 == \"Heads\":\n",
    "        first_heads += 1\n",
    "    if toss1 == \"Heads\" or toss2 == \"Heads\":\n",
    "        either_heads += 1\n",
    "    if toss1 == \"Heads\" and toss2 == \"Heads\":\n",
    "        both_heads += 1\n",
    "\n",
    "\n",
    "print(both_heads/size, either_heads/size, first_heads/size)\n",
    "\n",
    "print(\"P(BH |H):\", both_heads/first_heads)\n",
    "print(\"P(BH |OH):\", both_heads/either_heads)\n"
   ]
  },
  {
   "cell_type": "markdown",
   "metadata": {},
   "source": [
    "## Bayes's Theorem\n",
    "\n",
    "$p(E|F) = \\frac{p(E,F)}{p(F)}$\n",
    "\n",
    "Since:\n",
    "$p(E,F) = p(F, E) = p(F|E)p(E) = p(E|F)p(F)$\n",
    "\n",
    "Therefore, if we know P(F|E)\n",
    "\n",
    "$p(E|F) = \\frac{p(F|E)p(E)}{p(F)}$\n",
    "\n",
    "This is to solve when we want to find out propbability of E occurring on condition F, however only have information about probility of F occuring on condition E. \n",
    "\n",
    "It can be seen as the intersection (and) betwee p(E) and p(F) over p(F). where the intersection, can be seen as the probability of having F in the population of E times the probability of E. \n",
    "\n",
    "If we know under there are 350 people in a population of 1000 that are under 30, and out of the people there are 300 good, 50 defaulted. out of the whole population 900 are good\n",
    "\n",
    "```\n",
    "F = people under 30\n",
    "E = people that are good\n",
    "\n",
    "p(E| F) = probability of good given then are under 30\n",
    "\n",
    "p(E, F) = both good and under 30 = 300 / 1000 = 0.3\n",
    "p(F| E) = under 30, given good = 300 / 900 = 0.333\n",
    "p(F) = under 30 = 350/1000 = 0.35\n",
    "p(E) = good = 900/1000 = 0.9\n",
    "\n",
    "p(F|E)p(E) = 0.333 * 0.9 = 0.3\n",
    "```\n",
    "\n",
    "**Note** how both way of calculating the denominator produce same results"
   ]
  },
  {
   "cell_type": "markdown",
   "metadata": {},
   "source": [
    "\n",
    "## From a scorecard perspective (Naive Bayes)\n",
    "\n",
    "$p(G|x) = \\frac{p(x|G)p_G}{p(x)}$\n",
    "\n",
    "Probability of Good, given attribute x, equals probability attribute x in Good, over probability of x. \n",
    "- Proportion of has attribute x vs good, times\n",
    "- Proportion of Good vs all, over\n",
    "- Proportion of attribute x vs all\n",
    "\n",
    "For example:\n",
    "\n",
    "- In sample population varible age bracket 30- has 300 Good, 50 Bad\n",
    "- In total there are 1000 applications\n",
    "- Out of 1000 application, 100 are bad\n",
    "\n",
    "\n",
    "Therefore: \n",
    "$p(G|x) = \\frac{\\frac{300}{900}*\\frac{900}{1000}}{\\frac{350}{1000}}$ \n",
    "\n",
    "$p(G|x) = \\frac{\\frac{300}{900}* 900}{350}$ \n",
    "\n",
    "$p(G|x) = \\frac{300}{350} = \\frac{6}{7}$ \n",
    "\n",
    "\n",
    "There's more:\n",
    "$p(B|x) = \\frac{p(x|G)p_G}{p(x)}$\n",
    "\n",
    "Therefore:\n",
    "\n",
    "$\\frac{p(G|x)}{p(B|x)}=\\frac{(p(x|G)p_G)}{p(x|B)p_B}$\n",
    "\n",
    "when we take log odds, we get a score:\n",
    "\n",
    "$s(x) = ln(\\frac{p(G|x)}{p(B|x)}) = ln(\\frac{p_G}{p_B}) + ln(\\frac{p(x|G)}{p(x|B)})$\n",
    "\n",
    "where the first term is the **population odds** and the later, represented by x's are weights of evidence. If woe = 0 then this attribute does not impact overall score. if large positive then it is likely for the chance of having the attribute to be Good else Bad.\n",
    "\n",
    "\n",
    "Same example:\n",
    "\n",
    "$s_pop$ = ln(900/100) = 2.20\n",
    "$woe(30-) = ln(\\frac{300/900}{50/100}) = ln(2/3) = -0.41$\n",
    "\n",
    "if there are other scores we can add them in. if there is just this attribute, the totalk score would be 1.79 (2.20 - 0.41)\n",
    "\n",
    "**note** The assumption is that the attribute are independed of each other, which is often not in case of score card, therefore this way is not accurate. We often use logistic regrssion when dealing with scorecards."
   ]
  },
  {
   "cell_type": "markdown",
   "metadata": {},
   "source": []
  }
 ],
 "metadata": {
  "interpreter": {
   "hash": "64dfeb3d92514644a4a1729b7c4e65feae144e5c2796f53ed9c0c812028f2174"
  },
  "kernelspec": {
   "display_name": "Python 3.9.13 ('.env': venv)",
   "language": "python",
   "name": "python3"
  },
  "language_info": {
   "codemirror_mode": {
    "name": "ipython",
    "version": 3
   },
   "file_extension": ".py",
   "mimetype": "text/x-python",
   "name": "python",
   "nbconvert_exporter": "python",
   "pygments_lexer": "ipython3",
   "version": "3.9.13"
  },
  "orig_nbformat": 4
 },
 "nbformat": 4,
 "nbformat_minor": 2
}
