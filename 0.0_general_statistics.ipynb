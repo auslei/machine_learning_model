{
 "cells": [
  {
   "cell_type": "markdown",
   "metadata": {},
   "source": [
    "# General Statistics\n",
    "\n",
    "Just some stats lingos and methodology so I don't forget."
   ]
  },
  {
   "cell_type": "code",
   "execution_count": 40,
   "metadata": {},
   "outputs": [],
   "source": [
    "# https://numpy.org/doc/stable/reference/random/generated/numpy.random.normal.html\n",
    "mu, sigma = 0, 0.1 # mean and standard deviation\n",
    "s = np.random.normal(mu, sigma, 1000)\n"
   ]
  },
  {
   "cell_type": "code",
   "execution_count": 23,
   "metadata": {},
   "outputs": [
    {
     "data": {
      "image/png": "[encoded data removed]",
      "text/plain": [
       "<Figure size 432x288 with 1 Axes>"
      ]
     },
     "metadata": {
      "needs_background": "light"
     },
     "output_type": "display_data"
    }
   ],
   "source": [
    "import matplotlib.pyplot as plt\n",
    "import numpy as np\n",
    "\n",
    "count, bins, ignored = plt.hist(s, 30, density=True)\n",
    "plt.plot(bins, 1/(sigma * np.sqrt(2 * np.pi)) *\n",
    "         np.exp( - (bins - mu)**2 / (2 * sigma**2) ),\n",
    "         linewidth=2, color='r')\n",
    "\n",
    "plt.show()"
   ]
  },
  {
   "cell_type": "markdown",
   "metadata": {},
   "source": [
    "## Describing Data"
   ]
  },
  {
   "cell_type": "code",
   "execution_count": 24,
   "metadata": {},
   "outputs": [
    {
     "name": "stdout",
     "output_type": "stream",
     "text": [
      "10.48 11 16\n"
     ]
    }
   ],
   "source": [
    "from collections import Counter\n",
    "\n",
    "# Mean\n",
    "def mean(x):\n",
    "    return(sum(x)/len(x))\n",
    "\n",
    "# quantile.\n",
    "def quantile(x, p):\n",
    "    p_index = int(p * len(x))\n",
    "    return sorted(x)[p_index]\n",
    "\n",
    "\n",
    "# mod\n",
    "def mode(x):\n",
    "    c = Counter(x)\n",
    "    return c.most_common(1)[0][0]\n",
    "\n",
    "\n",
    "# below prints mean, median, and 75 percentile.\n",
    "print(mean(x), quantile(x, 0.5), quantile(x, 0.75))"
   ]
  },
  {
   "cell_type": "markdown",
   "metadata": {},
   "source": [
    "## Plot Normal Distribution"
   ]
  },
  {
   "cell_type": "code",
   "execution_count": 46,
   "metadata": {},
   "outputs": [
    {
     "data": {
      "text/plain": [
       "<BarContainer object of 26 artists>"
      ]
     },
     "execution_count": 46,
     "metadata": {},
     "output_type": "execute_result"
    },
    {
     "data": {
      "image/png": "[encoded data removed]",
      "text/plain": [
       "<Figure size 432x288 with 1 Axes>"
      ]
     },
     "metadata": {
      "needs_background": "light"
     },
     "output_type": "display_data"
    }
   ],
   "source": [
    "# Generate Distribution:\n",
    "randomNums = np.random.normal(scale=3, size=100000)\n",
    "randomInts = np.round(randomNums)\n",
    "\n",
    "c = Counter(randomInts)\n",
    "plt.bar(c.keys(), c.values())"
   ]
  },
  {
   "cell_type": "markdown",
   "metadata": {},
   "source": [
    "## Dispersion\n",
    "Measures of how spread out the data is.\n",
    "\n",
    "$Variance =\\frac{\\sum_{i=0}^n(x_i-\\bar{x})^2}{n-1}$ \n",
    "\n",
    "**Note** The reason why n-1 is that normally $\\bar{x}$ is a sample mean which mean the avearge of deviation squared is an underestimate. See: https://en.wikipedia.org/wiki/Unbiased_estimation_of_standard_deviation\n",
    "\n",
    "\n",
    "Standard Deivation is just square root of variance. This is because intuitive, SD is the same unit.\n",
    "\n",
    "$s = \\sqrt{\\frac{\\sum_{i=0}^n(x_i-\\bar{x})^2}{n-1}}$"
   ]
  },
  {
   "cell_type": "code",
   "execution_count": 60,
   "metadata": {},
   "outputs": [
    {
     "name": "stdout",
     "output_type": "stream",
     "text": [
      "25.0 9.105911059110591 3.0176002152555914\n"
     ]
    }
   ],
   "source": [
    "# range is the simplist \n",
    "def data_range(x):\n",
    "    return max(x) - min(x)\n",
    "\n",
    "# deviations from mean for each element\n",
    "def de_mean(x):\n",
    "    x_bar = mean(x)\n",
    "    return [x_i - x_bar for x_i in x] \n",
    "\n",
    "# variance is just the sum sqaned\n",
    "def variance(x):\n",
    "    n = len(x)\n",
    "    deivations = de_mean(x)\n",
    "    return sum([x_i**2 for x_i in x]) / (n - 1)\n",
    "\n",
    "# standard deviation\n",
    "def standard_div(x):\n",
    "    return np.sqrt(variance(x))\n",
    "\n",
    "\n",
    "print(data_range(randomInts), variance(randomInts), standard_div(randomInts))"
   ]
  },
  {
   "cell_type": "code",
   "execution_count": 51,
   "metadata": {},
   "outputs": [
    {
     "data": {
      "text/plain": [
       "array([1, 4, 9])"
      ]
     },
     "execution_count": 51,
     "metadata": {},
     "output_type": "execute_result"
    }
   ],
   "source": [
    "np.array([1,2,3]) ** 2"
   ]
  },
  {
   "cell_type": "code",
   "execution_count": 52,
   "metadata": {},
   "outputs": [
    {
     "ename": "TypeError",
     "evalue": "unsupported operand type(s) for ** or pow(): 'list' and 'int'",
     "output_type": "error",
     "traceback": [
      "\u001b[0;31m---------------------------------------------------------------------------\u001b[0m",
      "\u001b[0;31mTypeError\u001b[0m                                 Traceback (most recent call last)",
      "\u001b[1;32m/Users/leisun/coding/0.0_general_statistics.ipynb Cell 11'\u001b[0m in \u001b[0;36m<cell line: 1>\u001b[0;34m()\u001b[0m\n\u001b[0;32m----> <a href='vscode-notebook-cell:/Users/leisun/coding/0.0_general_statistics.ipynb#ch0000013?line=0'>1</a>\u001b[0m [\u001b[39m1\u001b[39;49m,\u001b[39m2\u001b[39;49m,\u001b[39m3\u001b[39;49m] \u001b[39m*\u001b[39;49m\u001b[39m*\u001b[39;49m \u001b[39m2\u001b[39;49m\n",
      "\u001b[0;31mTypeError\u001b[0m: unsupported operand type(s) for ** or pow(): 'list' and 'int'"
     ]
    }
   ],
   "source": [
    "[1,2,3] ** 2"
   ]
  },
  {
   "cell_type": "code",
   "execution_count": null,
   "metadata": {},
   "outputs": [],
   "source": []
  }
 ],
 "metadata": {
  "interpreter": {
   "hash": "64dfeb3d92514644a4a1729b7c4e65feae144e5c2796f53ed9c0c812028f2174"
  },
  "kernelspec": {
   "display_name": "Python 3.9.13 ('.env': venv)",
   "language": "python",
   "name": "python3"
  },
  "language_info": {
   "codemirror_mode": {
    "name": "ipython",
    "version": 3
   },
   "file_extension": ".py",
   "mimetype": "text/x-python",
   "name": "python",
   "nbconvert_exporter": "python",
   "pygments_lexer": "ipython3",
   "version": "3.9.13"
  },
  "orig_nbformat": 4
 },
 "nbformat": 4,
 "nbformat_minor": 2
}
