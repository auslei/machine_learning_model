{
 "cells": [
  {
   "cell_type": "markdown",
   "metadata": {
    "Collapsed": "false"
   },
   "source": [
    "## Random Forest ##\n",
    "\n",
    "*Crowd wisdom*, aggregated predictors usually performs better than single ones. The majority vote method is also know as *emsemble method*. The method works best if predictors are independent (data and method). Random forest is normally emsemble decision trees with bootstraping methods"
   ]
  },
  {
   "cell_type": "markdown",
   "metadata": {
    "Collapsed": "false"
   },
   "source": [
    "## Voting Classifier ##\n"
   ]
  },
  {
   "cell_type": "code",
   "execution_count": 1,
   "metadata": {
    "Collapsed": "false"
   },
   "outputs": [
    {
     "name": "stdout",
     "output_type": "stream",
     "text": [
      "LogisticRegression 0.95\n",
      "RandomForestClassifier 0.9666666666666667\n",
      "SVC 0.953030303030303\n",
      "VotingClassifier 0.9545454545454546\n"
     ]
    }
   ],
   "source": [
    "from sklearn.ensemble import RandomForestClassifier\n",
    "from sklearn.ensemble import VotingClassifier\n",
    "from sklearn.datasets import make_classification\n",
    "\n",
    "from sklearn.linear_model import LogisticRegression\n",
    "from sklearn.svm import SVC\n",
    "from sklearn.model_selection import train_test_split\n",
    "\n",
    "log_clf = LogisticRegression()\n",
    "svm_clf = SVC()\n",
    "rnd_clf = RandomForestClassifier()\n",
    "\n",
    "voting_clf = VotingClassifier(\n",
    "                estimators = [('lr', log_clf), ('svc', svm_clf), ('rf', rnd_clf)],\n",
    "                voting = \"hard\"\n",
    "            )\n",
    "\n",
    "X, y = make_classification(n_samples= 2000, n_classes=2, n_features=20, \n",
    "                           n_redundant = 6, n_clusters_per_class = 2, \n",
    "                           weights = (0.95, 0.05))\n",
    "\n",
    "X_train, X_test, y_train, y_test = train_test_split(X, y, test_size=0.33, random_state=42)\n",
    "\n",
    "#voting_clf.fit(X_train, y_train)\n",
    "\n",
    "from sklearn.metrics import accuracy_score\n",
    "for clf in (log_clf, rnd_clf, svm_clf, voting_clf):\n",
    "    clf.fit(X_train, y_train)\n",
    "    y_pred = clf.predict(X_test)\n",
    "    print(clf.__class__.__name__, accuracy_score(y_test, y_pred))"
   ]
  },
  {
   "cell_type": "markdown",
   "metadata": {
    "Collapsed": "false"
   },
   "source": [
    "## bagging and pasting ##\n",
    "Using same training algorithm for each of predicor, but train in different subset of random data. This is called boostrap aggregating (aka bagging) if sampling is performed with replacement, pasting if without."
   ]
  },
  {
   "cell_type": "code",
   "execution_count": 2,
   "metadata": {
    "Collapsed": "false"
   },
   "outputs": [
    {
     "data": {
      "text/plain": [
       "(0.9545454545454546, 0.9462686567164179)"
      ]
     },
     "execution_count": 2,
     "metadata": {},
     "output_type": "execute_result"
    }
   ],
   "source": [
    "from sklearn.ensemble import BaggingClassifier\n",
    "from sklearn.tree import DecisionTreeClassifier\n",
    "\n",
    "bag_clf = BaggingClassifier(DecisionTreeClassifier(), n_estimators=500, max_samples=100, bootstrap=True, oob_score=True)\n",
    "bag_clf.fit(X_train, y_train)\n",
    "y_pred = bag_clf.predict(X_test)\n",
    "accuracy_score(y_test, y_pred), bag_clf.oob_score_"
   ]
  },
  {
   "cell_type": "markdown",
   "metadata": {
    "Collapsed": "false"
   },
   "source": [
    "## Random Pathes and Random Subspace ##\n",
    "\n",
    "Random patches is basically sampling features and data, subspace is sampling features only. Helps with high dimensional data. \n",
    "\n",
    "User hyperparameter: max_features and bootstrap_features\n",
    "\n",
    "For subspace: use bootstrap = False, max_samples = 1.0\n"
   ]
  },
  {
   "cell_type": "code",
   "execution_count": 3,
   "metadata": {
    "Collapsed": "false"
   },
   "outputs": [
    {
     "data": {
      "text/plain": [
       "(0.956060606060606, 0.9492537313432836)"
      ]
     },
     "execution_count": 3,
     "metadata": {},
     "output_type": "execute_result"
    }
   ],
   "source": [
    "from sklearn.ensemble import RandomForestClassifier\n",
    "rf_clf = RandomForestClassifier(n_estimators=500, max_samples=100, bootstrap=True, oob_score=True)\n",
    "rf_clf.fit(X_train, y_train)\n",
    "y_pred = rf_clf.predict(X_test)\n",
    "accuracy_score(y_test, y_pred), rf_clf.oob_score_"
   ]
  },
  {
   "cell_type": "markdown",
   "metadata": {
    "Collapsed": "false"
   },
   "source": [
    "## Extra Trees ##\n",
    "\n",
    "*Extremely Randomised* trees. The is for every node, the trees are made random by also using random threshold for each feature, rather than search best possble threshods. This will potentially reduce bias by trading variance, and making treess faster. \n",
    "\n",
    "https://scikit-learn.org/stable/modules/generated/sklearn.ensemble.ExtraTreesClassifier.html"
   ]
  },
  {
   "cell_type": "code",
   "execution_count": 4,
   "metadata": {
    "Collapsed": "false"
   },
   "outputs": [],
   "source": [
    "from sklearn.ensemble import ExtraTreesClassifier\n",
    "ext_clf = ExtraTreesClassifier()"
   ]
  },
  {
   "cell_type": "markdown",
   "metadata": {
    "Collapsed": "false"
   },
   "source": [
    "## Feature Importance\n",
    "Random forest can also be used to measure the relative imporance of each feature, by measure how much reduction of impurity for each node using weighted average."
   ]
  },
  {
   "cell_type": "code",
   "execution_count": 5,
   "metadata": {
    "Collapsed": "false"
   },
   "outputs": [
    {
     "name": "stdout",
     "output_type": "stream",
     "text": [
      "sepal length (cm) 0.09715396338255111\n",
      "sepal width (cm) 0.024912509447804012\n",
      "petal length (cm) 0.437745913304735\n",
      "petal width (cm) 0.4401876138649099\n"
     ]
    }
   ],
   "source": [
    "from sklearn.datasets import load_iris\n",
    "from sklearn.ensemble import RandomForestClassifier\n",
    "iris = load_iris()\n",
    "rnd_clf = RandomForestClassifier(n_estimators=500, n_jobs=-1)\n",
    "rnd_clf.fit(iris['data'], iris['target'])\n",
    "for name, score in zip(iris[\"feature_names\"], rnd_clf.feature_importances_):\n",
    "    print(name, score)"
   ]
  },
  {
   "cell_type": "markdown",
   "metadata": {
    "Collapsed": "false"
   },
   "source": [
    "## Boosting\n",
    "Boosting involves combine several weak learners. This is to train predictors sequentially, each trying to correct its predecessor.\n",
    "\n",
    "Popular methods are **AdaBoost**(adaptive boosting) and **Gradient Boost**\n",
    "\n",
    "https://www.sciencedirect.com/science/article/pii/S002200009791504X\n",
    "\n",
    "\n",
    "### ADA Boosting ###\n",
    "https://scikit-learn.org/stable/modules/generated/sklearn.ensemble.AdaBoostClassifier.html\n",
    "First base predictor is trained, relative weights of misclassified instances is then increased, the next predictor is trained using updated weights.\n",
    "\n",
    "https://towardsdatascience.com/boosting-and-adaboost-clearly-explained-856e21152d3e\n",
    "\n",
    "Start by assigning a weight for each sample, then increase weight for misclassified samples, find the best stump for the next one, and start again."
   ]
  },
  {
   "cell_type": "code",
   "execution_count": 6,
   "metadata": {
    "Collapsed": "false"
   },
   "outputs": [
    {
     "name": "stdout",
     "output_type": "stream",
     "text": [
      "0.9466666666666667\n"
     ]
    }
   ],
   "source": [
    "from sklearn.ensemble import AdaBoostClassifier\n",
    "from sklearn.datasets import load_iris\n",
    "from sklearn.model_selection import cross_val_score\n",
    "\n",
    "iris = load_iris()\n",
    "ada_clf = AdaBoostClassifier(n_estimators=50)\n",
    "ada_clf.fit(iris['data'], iris['target'])\n",
    "\n",
    "s = cross_val_score(ada_clf, iris['data'], iris['target'], cv=6)\n",
    "print(s.mean())\n",
    "\n",
    "r = ada_clf.estimator_errors_, ada_clf.estimator_weights_, ada_clf.feature_importances_, iris['feature_names']\n"
   ]
  },
  {
   "cell_type": "markdown",
   "metadata": {},
   "source": [
    "## Gradient Boosting\n",
    "\n",
    "Anothe sequencial model by fitting new predictor with residual errors made by the previous predictor. Decision tress can also be used as base predictors this is called *Gradient Tree Boosting* or *Gradient Boosted Regression Trees*(GBRT)"
   ]
  },
  {
   "cell_type": "code",
   "execution_count": 7,
   "metadata": {},
   "outputs": [
    {
     "data": {
      "text/plain": [
       "((100, 1), (100,))"
      ]
     },
     "execution_count": 7,
     "metadata": {},
     "output_type": "execute_result"
    }
   ],
   "source": [
    "from sklearn.datasets import make_regression\n",
    "X, y = make_regression(n_samples=100, n_features=1, noise=1.1)\n",
    "X.shape, y.shape"
   ]
  },
  {
   "cell_type": "code",
   "execution_count": 8,
   "metadata": {},
   "outputs": [],
   "source": [
    "import numpy as np\n",
    "X = np.linspace(-2, 2, 100).reshape(100, 1)\n",
    "noise = np.random.normal(size=100).reshape(100, 1)\n",
    "y = (np.square(X) + noise).reshape(100,)"
   ]
  },
  {
   "cell_type": "code",
   "execution_count": 9,
   "metadata": {},
   "outputs": [],
   "source": [
    "#https://scikit-learn.org/stable/modules/generated/sklearn.datasets.make_regression.html#sklearn.datasets.make_regression\n",
    "\n",
    "from sklearn.tree import DecisionTreeRegressor\n",
    "\n",
    "# original predictor\n",
    "t1 = DecisionTreeRegressor(max_depth = 2)\n",
    "t1.fit(X, y)\n",
    "t1_p = t1.predict(X)\n",
    "\n",
    "# second predictor, predicting residual error from previous predictor\n",
    "y2 = y - t1_p\n",
    "t2 = DecisionTreeRegressor(max_depth = 2)\n",
    "t2.fit(X, y2)\n",
    "t2_p = t2.predict(X)\n",
    "\n",
    "# third predictor, predicting residual error from previous predictor\n",
    "y3 =  y2 - t2_p\n",
    "t3 = DecisionTreeRegressor(max_depth = 2)\n",
    "t3.fit(X, y3)\n",
    "t3_p = t3.predict(X)\n",
    "\n",
    "# this combined one is used.\n",
    "t_combined = t1_p + t2_p + t3_p"
   ]
  },
  {
   "cell_type": "markdown",
   "metadata": {},
   "source": [
    "### SKlearn version\n",
    "\n",
    "Note that the learning rate hyper-parameter scales the contribution of each try. If it is a low value, more trees mayhbe needed, but prediction may generalise better. This regularisation technique is called *shrinkage*"
   ]
  },
  {
   "cell_type": "code",
   "execution_count": 10,
   "metadata": {},
   "outputs": [],
   "source": [
    "# Sklearn GradientBoostingRegressor offers samilar functionality of the above solution.\n",
    "from sklearn.ensemble import GradientBoostingRegressor\n",
    "gbrt = GradientBoostingRegressor(max_depth=2, n_estimators = 3, learning_rate=1)\n",
    "gbrt.fit(X, y)\n",
    "g = gbrt.predict(X)"
   ]
  },
  {
   "cell_type": "code",
   "execution_count": 11,
   "metadata": {},
   "outputs": [
    {
     "data": {
      "text/plain": [
       "<matplotlib.legend.Legend at 0x7f2d45567668>"
      ]
     },
     "execution_count": 11,
     "metadata": {},
     "output_type": "execute_result"
    },
    {
     "data": {
      "image/png": "[encoded data removed]",
      "text/plain": [
       "<Figure size 756x396 with 1 Axes>"
      ]
     },
     "metadata": {
      "needs_background": "light"
     },
     "output_type": "display_data"
    }
   ],
   "source": [
    "from matplotlib import pyplot as plt\n",
    "%matplotlib inline\n",
    "\n",
    "fig, ax = plt.subplots()\n",
    "fig.set_size_inches(10.5, 5.5)\n",
    "\n",
    "ax.scatter(X, y, marker='.', alpha=0.8)\n",
    "ax.scatter(X, t1_p, marker='o', alpha=0.2, c='g', label = \"predictor_1\")\n",
    "ax.scatter(X, t2_p, marker='o', alpha=0.2, c='y', label = \"predictor_2\")\n",
    "ax.scatter(X, t3_p, marker='o', alpha=0.2, c='b', label = \"predictor_3\")\n",
    "ax.scatter(X, t_combined, marker='x', alpha=0.8, c='r', label = \"combined\")\n",
    "\n",
    "ax.legend()"
   ]
  },
  {
   "cell_type": "markdown",
   "metadata": {},
   "source": [
    "### Finding Optimal # Trees\n",
    "\n",
    "This is done by looking at score at each stage of the ensemble, and if there are no significant improvement, stop the progression. This is called **early stop**\n",
    "\n",
    "This can be done in sklearn by using a paramter called warm_start at True. This allows training to keep existing tress when the fit() method is called.\n",
    "\n",
    "The class also support subsample paramter which allows only a specified training instance is used for a given tree, this will trade variance with bias."
   ]
  },
  {
   "cell_type": "code",
   "execution_count": 12,
   "metadata": {},
   "outputs": [],
   "source": [
    "from sklearn.metrics import mean_squared_error\n",
    "\n",
    "# instantiating with warm_start\n",
    "gbrt = GradientBoostingRegressor(max_depth=2, warm_start=True)\n",
    "\n",
    "def finding_optimal_tree(predictor, max_estmators, X_train, y_train, X_val, y_val):\n",
    "    min_val_error = float(\"inf\")\n",
    "    error_going_up = 0\n",
    "    \n",
    "    # loop through the number of estimator. Train with the new predictor and validate. If validate error is no longer going down (5 times), break.\n",
    "    for n_estmators in range(1, max_estimators):\n",
    "        predictor.n_estmators = n_estmators\n",
    "        predictor.fit(X_train, y_train)\n",
    "        y_pred = predictor.predict(X_val)\n",
    "        val_error = mean_squared_error(y_val, y_pred)\n",
    "        if val_error < min_val_error:\n",
    "            min_val_error = val_error\n",
    "            error_going_up = 0\n",
    "        else:\n",
    "            error_going_up += 1\n",
    "            if error_going_up == 5:\n",
    "                break            "
   ]
  },
  {
   "cell_type": "markdown",
   "metadata": {},
   "source": [
    "## Stacking\n",
    "\n",
    "There are another method which is also described as stacking. This is basically instead of using a voting method, training a model by blending the result of predictors as training data.\n",
    "\n",
    "1. Split a hold-out set\n",
    "2. Training set is split into two subsets\n",
    "3. First subset is used to train predictors of first layer\n",
    "4. Then predcution are made with hold-out set (this ensure the prediction are \"clean\")\n",
    "5. Then the predicted value from first layer are used as input, and combined with target value for training. (this is blender)\n",
    "\n"
   ]
  },
  {
   "cell_type": "code",
   "execution_count": null,
   "metadata": {},
   "outputs": [],
   "source": []
  }
 ],
 "metadata": {
  "kernelspec": {
   "display_name": "ml_with_tf",
   "language": "python",
   "name": "ml_with_tf"
  },
  "language_info": {
   "codemirror_mode": {
    "name": "ipython",
    "version": 3
   },
   "file_extension": ".py",
   "mimetype": "text/x-python",
   "name": "python",
   "nbconvert_exporter": "python",
   "pygments_lexer": "ipython3",
   "version": "3.8.6"
  }
 },
 "nbformat": 4,
 "nbformat_minor": 4
}
